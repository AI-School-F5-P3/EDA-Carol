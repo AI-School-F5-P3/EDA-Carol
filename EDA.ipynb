{
 "cells": [
  {
   "cell_type": "markdown",
   "metadata": {},
   "source": [
    "Proyecto Análisis Exploratorio de datos de la API alojada en https://covidtracking.com/data/api"
   ]
  },
  {
   "cell_type": "markdown",
   "metadata": {},
   "source": [
    "Primeramente realizamos la importación de los datos para su consulta"
   ]
  },
  {
   "cell_type": "code",
   "execution_count": 2,
   "metadata": {},
   "outputs": [
    {
     "name": "stdout",
     "output_type": "stream",
     "text": [
      "Archivo CSV guardado como 'daily.csv\n"
     ]
    }
   ],
   "source": [
    "import requests\n",
    "import pandas as pd\n",
    "import csv\n",
    "\n",
    "\n",
    "respuesta = requests.get('https://api.covidtracking.com/v1/states/daily.csv')\n",
    "\n",
    "if respuesta.status_code == 200:\n",
    "    with open('daily.csv', 'wb') as file:\n",
    "        file.write(respuesta._content)\n",
    "    print(\"Archivo CSV guardado como 'daily.csv\")\n",
    "else:\n",
    "    print(f\"Error al obtener los datos de: {respuesta.status_code}\")\n"
   ]
  },
  {
   "cell_type": "markdown",
   "metadata": {},
   "source": [
    "A continuación hacemos un sondeo del tipo de datos que tenemos"
   ]
  }
 ],
 "metadata": {
  "kernelspec": {
   "display_name": "Python 3",
   "language": "python",
   "name": "python3"
  },
  "language_info": {
   "codemirror_mode": {
    "name": "ipython",
    "version": 3
   },
   "file_extension": ".py",
   "mimetype": "text/x-python",
   "name": "python",
   "nbconvert_exporter": "python",
   "pygments_lexer": "ipython3",
   "version": "3.12.4"
  }
 },
 "nbformat": 4,
 "nbformat_minor": 2
}
