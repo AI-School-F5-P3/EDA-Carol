{
 "cells": [
  {
   "cell_type": "markdown",
   "metadata": {},
   "source": [
    "date                                mantener\n",
    "state                               mantener\n",
    "positive                            mantener (casos positivos confirmados + probables)\n",
    "probableCases                       mantener (casos que pueden tener síntomas o una prueba de antígenos positiva, pero no PCRs o pruebas de laboratorio)\n",
    "negative                            mantener (personas únicas que se hicieron una PCR y dieron negativo)\n",
    "pending                             obsoleta\n",
    "-totalTestResultsSource              descartada (fuentes de los datos de totalResultsSource)\n",
    "-totalTestResults                    descartada (resultados de test, medidos de forma muy heterogénea)\n",
    "hospitalizedCurrently               (hospitalizados actualmente, cada día, )\n",
    "hospitalizedCumulative              (numero total de personas, no siempre se sabe si incluye pediatría o no, en algunos casos solo sospechosos)\n",
    "inIcuCurrently                      (en uci actual, cada día)\n",
    "inIcuCumulative                     (numero total de personas en UCI)\n",
    "onVentilatorCurrently               (con respirador, cada día)\n",
    "onVentilatorCumulative              (número total de personas que han tenido respirador)\n",
    "recovered                           (recuperados, datos muy dispares de un estado a otros, medidos bajo diferentes directrices)\n",
    "-lastUpdateEt                        obsoleta\n",
    "-dateModified                        obsoleta\n",
    "-checkTimeEt                         obsoleta\n",
    "death                               mantener   (confirmados + probables)\n",
    "-hospitalized                        obsoleta\n",
    "hospitalizedDischarged              (número de dados de alta)\n",
    "-dateChecked                         obsoleta\n",
    "totalTestsViral                     (PCRs totales de cada estado, pero puede ser que algún estado incluya antígenos. En otra tabla, \"casos ambiguos\")\n",
    "positiveTestsViral                  (número total de test de PCR que dieron positivo)\n",
    "negativeTestsViral                  (número total de test de PCR que dieron negativo)\n",
    "positiveCasesViral                  (personas únicas con un positivo en PCR o NAAT positiva)\n",
    "deathConfirmed                      mantener (solo confirmados)\n",
    "deathProbable                       mantener (probables)\n",
    "totalTestEncountersViral            (total de personas testadas por dia de PCR)\n",
    "totalTestsPeopleViral               (total de personas testeadas de PCR)\n",
    "totalTestsAntibody                  (número total de test de anticuerpos completados)\n",
    "positiveTestsAntibody               (número de test de anticuerpos positivos)\n",
    "negativeTestsAntibody               (número de test de anticuerpos negativos)\n",
    "totalTestsPeopleAntibody            (número total de personas únicas que han sido testeadas con anticuerpos)\n",
    "positiveTestsPeopleAntibody         (número de personas únicas a quienes les dio positivo el test de anticuerpos)\n",
    "negativeTestsPeopleAntibody         (número de personas únicas a quienes les dio negativo el test de anticuerpos)\n",
    "totalTestsPeopleAntigen             (total de personas únicas que han sido testeadas al menos una vez con antígenos)\n",
    "positiveTestsPeopleAntigen          (número de personas únicas con test de antígenos positivo)\n",
    "totalTestsAntigen                   (número total de test de antígenos completados)\n",
    "positiveTestsAntigen                (total de test de antígenos positivos)\n",
    "-fips                                descartada\n",
    "positiveIncrease                    (incremento de positivos por día)\n",
    "negativeIncrease                    (incremento de negativos por día)\n",
    "-total                               obsoleta\n",
    "-totalTestResultsIncrease            descartada (incremento diario de totalTestResults)\n",
    "-posNeg                              obsoleta\n",
    "deathIncrease                       (incremento de muertes respecto al día anterior)\n",
    "hospitalizedIncrease                (incremento de hospitalización respecto al día anterior) \n",
    "\n",
    "\n",
    "Preguntas que podría hacer:\n",
    "- ¿Cuántas muertes por estado? No me parece muy informativa sin tener conocimiento de la población de cada estado y poder sacar un porcentaje poblacional. En caso de querer sacar una previsión de esto, habría que buscar esta información. \n",
    "\n",
    "- ¿Qué día hubo más positivos en cada estado? Se podría hacer una investigación de si hubo festivos previamente en los estados donde hubiera una subida muy alta de casos. \n",
    "\n",
    "- ¿Cuáles son los outliers? Cómo averiguarlos y ver qué significan. Valorar qué pueden significar, por ejemplo, Samoa es una isla y casi nunca hay muertes, ni positivos, y aunque tiene toda la lógica, puede modificar mucho otros estadísticos. \n"
   ]
  },
  {
   "cell_type": "code",
   "execution_count": null,
   "metadata": {},
   "outputs": [],
   "source": [
    "daily = daily.drop(columns=['posNeg', 'total', 'dateChecked', 'hospitalized', 'checkTimeEt', 'dateModified', 'lastUpdateEt', 'totalTestResults', 'totalTestResultsSource', 'totalTestResultsIncrease'])"
   ]
  },
  {
   "cell_type": "code",
   "execution_count": null,
   "metadata": {},
   "outputs": [],
   "source": [
    "current['death_percentage'] = (current['death']) / (current['poblacion']) * 100\n",
    "\n",
    "print(current[['state', 'death', 'poblacion', 'death_percentage']].head())"
   ]
  }
 ],
 "metadata": {
  "language_info": {
   "name": "python"
  }
 },
 "nbformat": 4,
 "nbformat_minor": 2
}
